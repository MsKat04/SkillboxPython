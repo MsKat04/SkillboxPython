{
 "cells": [
  {
   "cell_type": "code",
   "execution_count": 13,
   "metadata": {},
   "outputs": [],
   "source": [
    "import sqlite3\n",
    "netflix = sqlite3.connect('netflix.sqlite')\n",
    "task = sqlite3.connect(\"task1.sqlite\")\n",
    "netflix.row_factory = lambda cursor, row: {col[0]: row[i] for i, col in enumerate(cursor.description)}"
   ]
  },
  {
   "cell_type": "markdown",
   "metadata": {},
   "source": [
    "создаём таблицу фильмов и актёров"
   ]
  },
  {
   "cell_type": "code",
   "execution_count": 15,
   "metadata": {},
   "outputs": [],
   "source": [
    "task_bd = task.cursor()\n",
    "with task:\n",
    "  task_bd.execute(\"\"\"\n",
    "  CREATE TABLE filmes (\n",
    "    film_id INTEGER PRIMARY KEY AUTOINCREMENT,\n",
    "    type TEXT,\n",
    "    title TEXT,\n",
    "    director TEXT,\n",
    "    country TEXT,\n",
    "    date_added TEXT,\n",
    "    release_year INTEGER,\n",
    "    rating TEXT,\n",
    "    duration TEXT,\n",
    "    listed_in TEXT,\n",
    "    description TEXT\n",
    "  );\n",
    "  \"\"\")\n",
    "  task_bd.execute(\"\"\"\n",
    "  CREATE TABLE actores (\n",
    "    actor_id INTEGER PRIMARY KEY AUTOINCREMENT,\n",
    "    actor_name TEXT UNIQUE\n",
    "  );\n",
    "  \"\"\")\n",
    "  task_bd.execute(\"\"\"\n",
    "    CREATE TABLE actors_films (\n",
    "    film_id INTEGER,\n",
    "    actor_id INTEGER,\n",
    "    PRIMARY KEY (actor_id, film_id),\n",
    "    FOREIGN KEY (film_id) REFERENCES films(film_id),\n",
    "    FOREIGN KEY (actor_id) REFERENCES actors(actor_id)\n",
    "  );\n",
    "  \"\"\")"
   ]
  },
  {
   "cell_type": "markdown",
   "metadata": {},
   "source": [
    "Нормализуем "
   ]
  },
  {
   "cell_type": "code",
   "execution_count": 17,
   "metadata": {},
   "outputs": [],
   "source": [
    "insert_query = \"\"\"\n",
    "INSERT INTO filmes (type, title, listed_in, description)\n",
    "VALUES (:type, :title, :listed_in, :description);\n",
    "\"\"\"\n",
    "\n",
    "actors_films_insert_query = \"\"\"\n",
    "INSERT OR IGNORE INTO actors_films (film_id, actor_id)\n",
    "VALUES (?, (SELECT actor_id FROM actores WHERE actor_name = ?));\n",
    "\"\"\"\n",
    "\n",
    "with netflix, task:\n",
    "    for row in netflix.execute(\"SELECT * FROM netflix_titles\"):\n",
    "        task_bd.execute(insert_query, row)\n",
    "        film_id = task_bd.execute(\"SELECT last_insert_rowid() FROM filmes;\").fetchone()[0]\n",
    "        \n",
    "        for actor in row[\"cast\"].split(\", \"):\n",
    "            task_bd.execute(\"INSERT OR IGNORE INTO actors (actor_name) VALUES (?)\", (actor,))\n",
    "            task_bd.execute(actors_films_insert_query, (film_id, actor))"
   ]
  },
  {
   "cell_type": "markdown",
   "metadata": {},
   "source": [
    "вычисляем пары"
   ]
  },
  {
   "cell_type": "code",
   "execution_count": 18,
   "metadata": {},
   "outputs": [],
   "source": [
    "with task:\n",
    "    pair = \"\"\"\n",
    "    SELECT a1.actor_name as name1, a2.actor_name COUNT(*) as name2\n",
    "    FROM actors_films a_f1\n",
    "    JOIN actors_films a_f2 ON af1.film_id = af_2.film_id AND af_1.actor_id < af_2.actor_id\n",
    "    JOIN actores a1 ON a_f1.actor_id = a1.actor_id\n",
    "    JOIN actores a2 ON a_f2.actor_id = a2.actor_id\n",
    "    GROUP BY a_f1.actor_id, a_f2.actor_id\n",
    "    ORDER BY name2 DESC\n",
    "    LIMIT 1;\n",
    "    \"\"\"\n",
    "\n",
    "task_bd.execute(pair)\n",
    "result = task_bd.fetchone()\n",
    "print(\"Наиболее часто работающая пара актеров:\", result[0], \"и\", result[1])\n",
    "\n",
    "# Закрытие соединения\n",
    "task.close()"
   ]
  }
 ],
 "metadata": {
  "kernelspec": {
   "display_name": "Python 3",
   "language": "python",
   "name": "python3"
  },
  "language_info": {
   "codemirror_mode": {
    "name": "ipython",
    "version": 3
   },
   "file_extension": ".py",
   "mimetype": "text/x-python",
   "name": "python",
   "nbconvert_exporter": "python",
   "pygments_lexer": "ipython3",
   "version": "3.11.5"
  }
 },
 "nbformat": 4,
 "nbformat_minor": 2
}
